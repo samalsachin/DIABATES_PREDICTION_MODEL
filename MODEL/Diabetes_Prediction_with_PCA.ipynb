{
 "cells": [
  {
   "cell_type": "markdown",
   "id": "e69c8bad",
   "metadata": {},
   "source": [
    "# Diabetes Prediction Model with PCA"
   ]
  },
  {
   "cell_type": "markdown",
   "id": "6882ac14",
   "metadata": {},
   "source": [
    "## Part 1: Import Libraries and Load Data"
   ]
  },
  {
   "cell_type": "code",
   "execution_count": 8,
   "id": "8b12193a",
   "metadata": {},
   "outputs": [
    {
     "name": "stdout",
     "output_type": "stream",
     "text": [
      "   gender   age  hypertension  heart_disease smoking_history    bmi  \\\n",
      "0  Female  80.0             0              1           never  25.19   \n",
      "1  Female  54.0             0              0         No Info  27.32   \n",
      "2    Male  28.0             0              0           never  27.32   \n",
      "3  Female  36.0             0              0         current  23.45   \n",
      "4    Male  76.0             1              1         current  20.14   \n",
      "\n",
      "   HbA1c_level  blood_glucose_level  diabetes  \n",
      "0          6.6                  140         0  \n",
      "1          6.6                   80         0  \n",
      "2          5.7                  158         0  \n",
      "3          5.0                  155         0  \n",
      "4          4.8                  155         0  \n"
     ]
    }
   ],
   "source": [
    "\n",
    "import pandas as pd\n",
    "from sklearn.model_selection import train_test_split\n",
    "from sklearn.preprocessing import StandardScaler, LabelEncoder\n",
    "from sklearn.decomposition import PCA\n",
    "from sklearn.linear_model import LogisticRegression\n",
    "from sklearn.metrics import classification_report, accuracy_score\n",
    "\n",
    "# Load the dataset\n",
    "df = pd.read_csv('diabetes_prediction_dataset.csv')\n",
    "\n",
    "# Display the first few rows of the dataset\n",
    "print(df.head())\n"
   ]
  },
  {
   "cell_type": "markdown",
   "id": "56079e89",
   "metadata": {},
   "source": [
    "## Part 2: Data Preprocessing"
   ]
  },
  {
   "cell_type": "code",
   "execution_count": 9,
   "id": "b96c7b6d",
   "metadata": {},
   "outputs": [
    {
     "name": "stdout",
     "output_type": "stream",
     "text": [
      "Data preprocessing completed.\n"
     ]
    }
   ],
   "source": [
    "\n",
    "# Handle missing data\n",
    "df = df.dropna()  # Dropping rows with missing values for simplicity\n",
    "\n",
    "# Encode categorical variables\n",
    "le = LabelEncoder()\n",
    "df['gender'] = le.fit_transform(df['gender'])\n",
    "df['hypertension'] = le.fit_transform(df['hypertension'])\n",
    "df['heart_disease'] = le.fit_transform(df['heart_disease'])\n",
    "df['smoking_history'] = le.fit_transform(df['smoking_history'])\n",
    "\n",
    "# Prepare data for classification\n",
    "X = df.drop(['diabetes', 'blood_glucose_level'], axis=1)  # Exclude both target and blood glucose level for features\n",
    "y = df['diabetes']  # Target variable\n",
    "\n",
    "# Scale features\n",
    "scaler = StandardScaler()\n",
    "X_scaled = scaler.fit_transform(X)\n",
    "\n",
    "print(\"Data preprocessing completed.\")\n"
   ]
  },
  {
   "cell_type": "markdown",
   "id": "0d603f95",
   "metadata": {},
   "source": [
    "## Part 3: Applying PCA"
   ]
  },
  {
   "cell_type": "code",
   "execution_count": 10,
   "id": "93157f89",
   "metadata": {},
   "outputs": [
    {
     "name": "stdout",
     "output_type": "stream",
     "text": [
      "Explained Variance Ratio of PCA components: [0.25094205 0.16036498]\n"
     ]
    }
   ],
   "source": [
    "\n",
    "# Reduce to 2 principal components for simplicity, or choose a number based on variance explained\n",
    "pca = PCA(n_components=2)\n",
    "X_pca = pca.fit_transform(X_scaled)\n",
    "\n",
    "# Display the explained variance ratio of the PCA components\n",
    "print(\"Explained Variance Ratio of PCA components:\", pca.explained_variance_ratio_)\n"
   ]
  },
  {
   "cell_type": "markdown",
   "id": "b574f084",
   "metadata": {},
   "source": [
    "## Part 4: Train-Test Split with PCA-transformed Data"
   ]
  },
  {
   "cell_type": "code",
   "execution_count": 11,
   "id": "857b8b07",
   "metadata": {},
   "outputs": [
    {
     "name": "stdout",
     "output_type": "stream",
     "text": [
      "Train-test split with PCA completed.\n"
     ]
    }
   ],
   "source": [
    "\n",
    "# Split into training and testing sets\n",
    "X_train, X_test, y_train, y_test = train_test_split(X_pca, y, test_size=0.2, random_state=42)\n",
    "\n",
    "print(\"Train-test split with PCA completed.\")\n"
   ]
  },
  {
   "cell_type": "markdown",
   "id": "423b55a9",
   "metadata": {},
   "source": [
    "## Part 5: Model Training"
   ]
  },
  {
   "cell_type": "code",
   "execution_count": 12,
   "id": "f3089a30",
   "metadata": {},
   "outputs": [
    {
     "name": "stdout",
     "output_type": "stream",
     "text": [
      "Model training completed.\n"
     ]
    }
   ],
   "source": [
    "\n",
    "# Train classification model\n",
    "clf = LogisticRegression()\n",
    "clf.fit(X_train, y_train)\n",
    "\n",
    "print(\"Model training completed.\")\n"
   ]
  },
  {
   "cell_type": "markdown",
   "id": "3e12a9c9",
   "metadata": {},
   "source": [
    "## Part 6: Model Evaluation"
   ]
  },
  {
   "cell_type": "code",
   "execution_count": 13,
   "id": "833de340",
   "metadata": {},
   "outputs": [
    {
     "name": "stdout",
     "output_type": "stream",
     "text": [
      "Classification Report:\n",
      "               precision    recall  f1-score   support\n",
      "\n",
      "           0       0.92      0.99      0.96     18292\n",
      "           1       0.54      0.14      0.22      1708\n",
      "\n",
      "    accuracy                           0.92     20000\n",
      "   macro avg       0.73      0.56      0.59     20000\n",
      "weighted avg       0.89      0.92      0.89     20000\n",
      "\n",
      "Accuracy Score: 0.9165\n"
     ]
    }
   ],
   "source": [
    "\n",
    "# Make predictions on the test set\n",
    "y_pred = clf.predict(X_test)\n",
    "\n",
    "# Evaluate the classification model\n",
    "print(\"Classification Report:\\n\", classification_report(y_test, y_pred))\n",
    "print(\"Accuracy Score:\", accuracy_score(y_test, y_pred))\n"
   ]
  },
  {
   "cell_type": "markdown",
   "id": "ab6f735d",
   "metadata": {},
   "source": [
    "## Part 7: Predict for New Data"
   ]
  },
  {
   "cell_type": "code",
   "execution_count": 14,
   "id": "6ddd3bca",
   "metadata": {},
   "outputs": [
    {
     "name": "stdout",
     "output_type": "stream",
     "text": [
      "Diabetes Prediction (1=Yes, 0=No): [0]\n"
     ]
    }
   ],
   "source": [
    "\n",
    "# Prepare new data for prediction (without the blood glucose level)\n",
    "new_data = pd.DataFrame({\n",
    "    'gender': [1],  # Male\n",
    "    'age': [45],\n",
    "    'hypertension': [1],  # Yes\n",
    "    'heart_disease': [0],  # No\n",
    "    'smoking_history': [0],  # No\n",
    "    'bmi': [27.5],\n",
    "    'HbA1c_level': [6.2]\n",
    "})\n",
    "\n",
    "# Preprocess and scale the new data using the same scaler\n",
    "new_data_scaled = scaler.transform(new_data)\n",
    "\n",
    "# Apply PCA transformation to the new scaled data\n",
    "new_data_pca = pca.transform(new_data_scaled)\n",
    "\n",
    "# Predict diabetes for the new data\n",
    "diabetes_prediction = clf.predict(new_data_pca)\n",
    "print(\"Diabetes Prediction (1=Yes, 0=No):\", diabetes_prediction)\n"
   ]
  },
  {
   "cell_type": "markdown",
   "id": "deed9731",
   "metadata": {},
   "source": [
    "## Additional Prediction: High-Risk Case"
   ]
  },
  {
   "cell_type": "code",
   "execution_count": 15,
   "id": "bc3c79ef",
   "metadata": {},
   "outputs": [
    {
     "name": "stdout",
     "output_type": "stream",
     "text": [
      "Diabetes Prediction for High-Risk Case (1=Yes, 0=No): [1]\n"
     ]
    }
   ],
   "source": [
    "\n",
    "# Example case where diabetes is likely to be 1\n",
    "new_data_high_risk = pd.DataFrame({\n",
    "    'gender': [1],  # Male\n",
    "    'age': [60],\n",
    "    'hypertension': [1],  # Yes\n",
    "    'heart_disease': [1],  # Yes\n",
    "    'smoking_history': [0],  # No\n",
    "    'bmi': [30.5],  # Obese\n",
    "    'HbA1c_level': [7.5]  # Poor blood sugar control\n",
    "})\n",
    "\n",
    "# Preprocess and scale the new high-risk data using the same scaler\n",
    "new_data_high_risk_scaled = scaler.transform(new_data_high_risk)\n",
    "\n",
    "# Apply PCA transformation to the high-risk data\n",
    "new_data_high_risk_pca = pca.transform(new_data_high_risk_scaled)\n",
    "\n",
    "# Predict diabetes for the new high-risk data\n",
    "diabetes_prediction_high_risk = clf.predict(new_data_high_risk_pca)\n",
    "print(\"Diabetes Prediction for High-Risk Case (1=Yes, 0=No):\", diabetes_prediction_high_risk)\n"
   ]
  }
 ],
 "metadata": {
  "kernelspec": {
   "display_name": "Python 3",
   "language": "python",
   "name": "python3"
  },
  "language_info": {
   "codemirror_mode": {
    "name": "ipython",
    "version": 3
   },
   "file_extension": ".py",
   "mimetype": "text/x-python",
   "name": "python",
   "nbconvert_exporter": "python",
   "pygments_lexer": "ipython3",
   "version": "3.11.2"
  }
 },
 "nbformat": 4,
 "nbformat_minor": 5
}

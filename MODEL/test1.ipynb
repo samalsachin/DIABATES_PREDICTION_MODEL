{
 "cells": [
  {
   "cell_type": "code",
   "execution_count": 1,
   "metadata": {},
   "outputs": [],
   "source": [
    "import pandas as pd\n",
    "from sklearn.model_selection import train_test_split\n",
    "from sklearn.preprocessing import StandardScaler, LabelEncoder\n",
    "\n",
    "# Load the dataset\n",
    "df = pd.read_csv('diabetes_prediction_dataset.csv')\n",
    "\n",
    "# Handle missing data\n",
    "df = df.dropna()  # Dropping rows with missing values for simplicity\n",
    "\n",
    "# Encode categorical variables\n",
    "le = LabelEncoder()\n",
    "df['gender'] = le.fit_transform(df['gender'])  # Convert gender to numerical\n",
    "df['hypertension'] = le.fit_transform(df['hypertension'])  # Yes/No to 1/0\n",
    "df['heart_disease'] = le.fit_transform(df['heart_disease'])  # Yes/No to 1/0\n",
    "df['smoking_history'] = le.fit_transform(df['smoking_history'])  # Yes/No to 1/0\n",
    "\n",
    "# Split the data into features (X) and target (y)\n",
    "X = df.drop('diabetes', axis=1)  # All features except the target\n",
    "y = df['diabetes']  # Target is 'diabetes'\n",
    "\n",
    "# Scale features\n",
    "scaler = StandardScaler()\n",
    "X_scaled = scaler.fit_transform(X)\n"
   ]
  },
  {
   "cell_type": "code",
   "execution_count": 2,
   "metadata": {},
   "outputs": [],
   "source": [
    "# Split into training and testing sets\n",
    "X_train, X_test, y_train, y_test = train_test_split(X_scaled, y, test_size=0.2, random_state=42)\n"
   ]
  },
  {
   "cell_type": "code",
   "execution_count": 3,
   "metadata": {},
   "outputs": [
    {
     "name": "stdout",
     "output_type": "stream",
     "text": [
      "Classification Report:\n",
      "               precision    recall  f1-score   support\n",
      "\n",
      "           0       0.96      0.99      0.98     18292\n",
      "           1       0.86      0.61      0.72      1708\n",
      "\n",
      "    accuracy                           0.96     20000\n",
      "   macro avg       0.91      0.80      0.85     20000\n",
      "weighted avg       0.96      0.96      0.96     20000\n",
      "\n",
      "Accuracy Score: 0.9587\n"
     ]
    }
   ],
   "source": [
    "from sklearn.linear_model import LogisticRegression\n",
    "from sklearn.metrics import classification_report, accuracy_score\n",
    "\n",
    "# Initialize the model\n",
    "clf = LogisticRegression()\n",
    "\n",
    "# Train the classification model\n",
    "clf.fit(X_train, y_train)\n",
    "\n",
    "# Make predictions on the test set\n",
    "y_pred = clf.predict(X_test)\n",
    "\n",
    "# Evaluate the classification model\n",
    "print(\"Classification Report:\\n\", classification_report(y_test, y_pred))\n",
    "print(\"Accuracy Score:\", accuracy_score(y_test, y_pred))\n"
   ]
  },
  {
   "cell_type": "code",
   "execution_count": 4,
   "metadata": {},
   "outputs": [
    {
     "name": "stdout",
     "output_type": "stream",
     "text": [
      "Mean Squared Error (MSE): 1572.5656499043525\n"
     ]
    }
   ],
   "source": [
    "from sklearn.linear_model import LinearRegression\n",
    "from sklearn.metrics import mean_squared_error\n",
    "\n",
    "# Assuming 'blood_glucose_level' is available in the dataset for regression\n",
    "y_reg = df['blood_glucose_level']\n",
    "X_reg = df.drop(['diabetes', 'blood_glucose_level'], axis=1)  # Drop target and blood glucose column\n",
    "\n",
    "# Split into training and testing sets for regression\n",
    "X_train_reg, X_test_reg, y_train_reg, y_test_reg = train_test_split(X_reg, y_reg, test_size=0.2, random_state=42)\n",
    "\n",
    "# Initialize the regression model\n",
    "reg = LinearRegression()\n",
    "\n",
    "# Train the regression model\n",
    "reg.fit(X_train_reg, y_train_reg)\n",
    "\n",
    "# Make predictions on the test set\n",
    "y_pred_reg = reg.predict(X_test_reg)\n",
    "\n",
    "# Evaluate the regression model\n",
    "mse = mean_squared_error(y_test_reg, y_pred_reg)\n",
    "print(\"Mean Squared Error (MSE):\", mse)\n"
   ]
  },
  {
   "cell_type": "code",
   "execution_count": 5,
   "metadata": {},
   "outputs": [
    {
     "name": "stdout",
     "output_type": "stream",
     "text": [
      "Classification Report:\n",
      "               precision    recall  f1-score   support\n",
      "\n",
      "           0       0.95      0.99      0.97     18292\n",
      "           1       0.84      0.43      0.57      1708\n",
      "\n",
      "    accuracy                           0.94     20000\n",
      "   macro avg       0.90      0.71      0.77     20000\n",
      "weighted avg       0.94      0.94      0.94     20000\n",
      "\n",
      "Accuracy Score: 0.94465\n",
      "Mean Squared Error (MSE): 1572.5656499043523\n",
      "Diabetes Prediction: [0]\n",
      "Predicted Blood Glucose Level: [153.72222803]\n"
     ]
    }
   ],
   "source": [
    "import pandas as pd\n",
    "from sklearn.preprocessing import StandardScaler, LabelEncoder\n",
    "from sklearn.model_selection import train_test_split\n",
    "from sklearn.linear_model import LogisticRegression, LinearRegression\n",
    "from sklearn.metrics import classification_report, accuracy_score, mean_squared_error\n",
    "\n",
    "# Load the dataset\n",
    "df = pd.read_csv('diabetes_prediction_dataset.csv')\n",
    "\n",
    "# Handle missing data\n",
    "df = df.dropna()  # Dropping rows with missing values for simplicity\n",
    "\n",
    "# Encode categorical variables\n",
    "le = LabelEncoder()\n",
    "df['gender'] = le.fit_transform(df['gender'])\n",
    "df['hypertension'] = le.fit_transform(df['hypertension'])\n",
    "df['heart_disease'] = le.fit_transform(df['heart_disease'])\n",
    "df['smoking_history'] = le.fit_transform(df['smoking_history'])\n",
    "\n",
    "# Prepare data for classification\n",
    "X = df.drop(['diabetes', 'blood_glucose_level'], axis=1)  # Exclude diabetes and blood glucose for features\n",
    "y = df['diabetes']  # Target is 'diabetes'\n",
    "\n",
    "# Scale features for classification\n",
    "scaler = StandardScaler()\n",
    "X_scaled = scaler.fit_transform(X)\n",
    "\n",
    "# Split into training and testing sets for classification\n",
    "X_train, X_test, y_train, y_test = train_test_split(X_scaled, y, test_size=0.2, random_state=42)\n",
    "\n",
    "# Train classification model\n",
    "clf = LogisticRegression()\n",
    "clf.fit(X_train, y_train)\n",
    "\n",
    "# Make predictions\n",
    "y_pred = clf.predict(X_test)\n",
    "print(\"Classification Report:\\n\", classification_report(y_test, y_pred))\n",
    "print(\"Accuracy Score:\", accuracy_score(y_test, y_pred))\n",
    "\n",
    "# Prepare data for regression\n",
    "y_reg = df['blood_glucose_level']\n",
    "X_reg = df.drop(['diabetes', 'blood_glucose_level'], axis=1)  # Exclude target columns\n",
    "\n",
    "# Scale features for regression using the same scaler\n",
    "X_reg_scaled = scaler.transform(X_reg)\n",
    "\n",
    "# Split into training and testing sets for regression\n",
    "X_train_reg, X_test_reg, y_train_reg, y_test_reg = train_test_split(X_reg_scaled, y_reg, test_size=0.2, random_state=42)\n",
    "\n",
    "# Train regression model\n",
    "reg = LinearRegression()\n",
    "reg.fit(X_train_reg, y_train_reg)\n",
    "\n",
    "# Make predictions\n",
    "y_pred_reg = reg.predict(X_test_reg)\n",
    "mse = mean_squared_error(y_test_reg, y_pred_reg)\n",
    "print(\"Mean Squared Error (MSE):\", mse)\n",
    "\n",
    "# Predict for new data\n",
    "new_data = pd.DataFrame({\n",
    "    'gender': [0],  # Male\n",
    "    'age': [67],\n",
    "    'hypertension': [0],  # Yes\n",
    "    'heart_disease': [1],  # No\n",
    "    'smoking_history': [0],  # No\n",
    "    'bmi': [27.19],\n",
    "    'HbA1c_level': [6.7]\n",
    "})\n",
    "\n",
    "# Preprocess and scale the new data using the same scaler\n",
    "new_data_scaled = scaler.transform(new_data)\n",
    "\n",
    "# Predict diabetes\n",
    "diabetes_prediction = clf.predict(new_data_scaled)\n",
    "print(\"Diabetes Prediction:\", diabetes_prediction)\n",
    "\n",
    "# Predict blood glucose level\n",
    "blood_glucose_prediction = reg.predict(new_data_scaled)\n",
    "print(\"Predicted Blood Glucose Level:\", blood_glucose_prediction)\n"
   ]
  }
 ],
 "metadata": {
  "kernelspec": {
   "display_name": "Python 3",
   "language": "python",
   "name": "python3"
  },
  "language_info": {
   "codemirror_mode": {
    "name": "ipython",
    "version": 3
   },
   "file_extension": ".py",
   "mimetype": "text/x-python",
   "name": "python",
   "nbconvert_exporter": "python",
   "pygments_lexer": "ipython3",
   "version": "3.11.2"
  }
 },
 "nbformat": 4,
 "nbformat_minor": 2
}

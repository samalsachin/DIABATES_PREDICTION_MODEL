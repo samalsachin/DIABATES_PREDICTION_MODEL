{
 "cells": [
  {
   "cell_type": "code",
   "execution_count": 1,
   "metadata": {},
   "outputs": [
    {
     "name": "stdout",
     "output_type": "stream",
     "text": [
      "   gender   age  hypertension  heart_disease smoking_history    bmi  \\\n",
      "0  Female  80.0             0              1           never  25.19   \n",
      "1  Female  54.0             0              0         No Info  27.32   \n",
      "2    Male  28.0             0              0           never  27.32   \n",
      "3  Female  36.0             0              0         current  23.45   \n",
      "4    Male  76.0             1              1         current  20.14   \n",
      "\n",
      "   HbA1c_level  blood_glucose_level  diabetes  \n",
      "0          6.6                  140         0  \n",
      "1          6.6                   80         0  \n",
      "2          5.7                  158         0  \n",
      "3          5.0                  155         0  \n",
      "4          4.8                  155         0  \n"
     ]
    }
   ],
   "source": [
    "# Part 1: Import Libraries and Load Data\n",
    "import pandas as pd\n",
    "from sklearn.model_selection import train_test_split\n",
    "from sklearn.preprocessing import StandardScaler, LabelEncoder\n",
    "\n",
    "# Load the dataset\n",
    "df = pd.read_csv('diabetes_prediction_dataset.csv')\n",
    "\n",
    "# Display the first few rows of the dataset\n",
    "print(df.head())\n"
   ]
  },
  {
   "cell_type": "code",
   "execution_count": 2,
   "metadata": {},
   "outputs": [
    {
     "name": "stdout",
     "output_type": "stream",
     "text": [
      "Features and target prepared.\n"
     ]
    }
   ],
   "source": [
    "# Part 2: Data Preprocessing\n",
    "# Handle missing data\n",
    "df = df.dropna()  # Dropping rows with missing values for simplicity\n",
    "\n",
    "# Encode categorical variables\n",
    "le = LabelEncoder()\n",
    "df['gender'] = le.fit_transform(df['gender'])\n",
    "df['hypertension'] = le.fit_transform(df['hypertension'])\n",
    "df['heart_disease'] = le.fit_transform(df['heart_disease'])\n",
    "df['smoking_history'] = le.fit_transform(df['smoking_history'])\n",
    "\n",
    "# Prepare data for classification\n",
    "X = df.drop(['diabetes', 'blood_glucose_level'], axis=1)  # Exclude both target and blood glucose level for features\n",
    "y = df['diabetes']  # Target variable\n",
    "\n",
    "# Scale features\n",
    "scaler = StandardScaler()\n",
    "X_scaled = scaler.fit_transform(X)\n",
    "\n",
    "# Display processed features and target\n",
    "print(\"Features and target prepared.\")\n"
   ]
  },
  {
   "cell_type": "code",
   "execution_count": 3,
   "metadata": {},
   "outputs": [
    {
     "name": "stdout",
     "output_type": "stream",
     "text": [
      "Train-test split completed.\n"
     ]
    }
   ],
   "source": [
    "# Part 3: Train-Test Split\n",
    "# Split into training and testing sets\n",
    "X_train, X_test, y_train, y_test = train_test_split(X_scaled, y, test_size=0.2, random_state=42)\n",
    "\n",
    "print(\"Train-test split completed.\")\n"
   ]
  },
  {
   "cell_type": "code",
   "execution_count": 4,
   "metadata": {},
   "outputs": [
    {
     "name": "stdout",
     "output_type": "stream",
     "text": [
      "Model training completed.\n"
     ]
    }
   ],
   "source": [
    "# Part 4: Model Training\n",
    "from sklearn.linear_model import LogisticRegression\n",
    "\n",
    "# Train classification model\n",
    "clf = LogisticRegression()\n",
    "clf.fit(X_train, y_train)\n",
    "\n",
    "print(\"Model training completed.\")\n"
   ]
  },
  {
   "cell_type": "code",
   "execution_count": 5,
   "metadata": {},
   "outputs": [
    {
     "name": "stdout",
     "output_type": "stream",
     "text": [
      "Classification Report:\n",
      "               precision    recall  f1-score   support\n",
      "\n",
      "           0       0.95      0.99      0.97     18292\n",
      "           1       0.84      0.43      0.57      1708\n",
      "\n",
      "    accuracy                           0.94     20000\n",
      "   macro avg       0.90      0.71      0.77     20000\n",
      "weighted avg       0.94      0.94      0.94     20000\n",
      "\n",
      "Accuracy Score: 0.94465\n"
     ]
    }
   ],
   "source": [
    "# Part 5: Model Evaluation\n",
    "from sklearn.metrics import classification_report, accuracy_score\n",
    "\n",
    "# Make predictions on the test set\n",
    "y_pred = clf.predict(X_test)\n",
    "\n",
    "# Evaluate the classification model\n",
    "print(\"Classification Report:\\n\", classification_report(y_test, y_pred))\n",
    "print(\"Accuracy Score:\", accuracy_score(y_test, y_pred))\n"
   ]
  },
  {
   "cell_type": "code",
   "execution_count": 6,
   "metadata": {},
   "outputs": [
    {
     "name": "stdout",
     "output_type": "stream",
     "text": [
      "Diabetes Prediction (1=Yes, 0=No): [0]\n"
     ]
    }
   ],
   "source": [
    "# Part 6: Predict for New Data\n",
    "# Prepare new data for prediction (without the blood glucose level)\n",
    "new_data = pd.DataFrame({\n",
    "    'gender': [1],  # Male\n",
    "    'age': [45],\n",
    "    'hypertension': [1],  # Yes\n",
    "    'heart_disease': [0],  # No\n",
    "    'smoking_history': [0],  # No\n",
    "    'bmi': [27.5],\n",
    "    'HbA1c_level': [6.2]\n",
    "})\n",
    "\n",
    "# Preprocess and scale the new data using the same scaler\n",
    "new_data_scaled = scaler.transform(new_data)  # No need to drop blood glucose as it's not in new_data\n",
    "\n",
    "# Predict diabetes for the new data\n",
    "diabetes_prediction = clf.predict(new_data_scaled)\n",
    "print(\"Diabetes Prediction (1=Yes, 0=No):\", diabetes_prediction)\n"
   ]
  },
  {
   "cell_type": "code",
   "execution_count": 7,
   "metadata": {},
   "outputs": [
    {
     "name": "stdout",
     "output_type": "stream",
     "text": [
      "Diabetes Prediction for High-Risk Case (1=Yes, 0=No): [1]\n"
     ]
    }
   ],
   "source": [
    "# Example case where diabetes is likely to be 1\n",
    "new_data_high_risk = pd.DataFrame({\n",
    "    'gender': [1],  # Male\n",
    "    'age': [60],\n",
    "    'hypertension': [1],  # Yes\n",
    "    'heart_disease': [1],  # Yes\n",
    "    'smoking_history': [0],  # No\n",
    "    'bmi': [30.5],  # Obese\n",
    "    'HbA1c_level': [7.5]  # Poor blood sugar control\n",
    "})\n",
    "\n",
    "# Preprocess and scale the new data using the same scaler\n",
    "new_data_high_risk_scaled = scaler.transform(new_data_high_risk)\n",
    "\n",
    "# Predict diabetes for the new high-risk data\n",
    "diabetes_prediction_high_risk = clf.predict(new_data_high_risk_scaled)\n",
    "print(\"Diabetes Prediction for High-Risk Case (1=Yes, 0=No):\", diabetes_prediction_high_risk)\n"
   ]
  },
  {
   "cell_type": "code",
   "execution_count": 8,
   "metadata": {},
   "outputs": [
    {
     "name": "stdout",
     "output_type": "stream",
     "text": [
      "Diabetes Prediction for Case 1 (1=Yes, 0=No): [1]\n",
      "Diabetes Prediction for Case 2 (1=Yes, 0=No): [0]\n",
      "Diabetes Prediction for Case 3 (1=Yes, 0=No): [1]\n",
      "Diabetes Prediction for Case 4 (1=Yes, 0=No): [1]\n"
     ]
    }
   ],
   "source": [
    "# Case 1: Middle-Aged Obese Female\n",
    "case_1 = pd.DataFrame({\n",
    "    'gender': [0],  # Female\n",
    "    'age': [55],\n",
    "    'hypertension': [1],  # Yes\n",
    "    'heart_disease': [0],  # No\n",
    "    'smoking_history': [0],  # No\n",
    "    'bmi': [32.0],  # Obese\n",
    "    'HbA1c_level': [8.0]  # Poor blood sugar control\n",
    "})\n",
    "\n",
    "# Case 2: Young Male with High HbA1c\n",
    "case_2 = pd.DataFrame({\n",
    "    'gender': [1],  # Male\n",
    "    'age': [40],\n",
    "    'hypertension': [1],  # Yes\n",
    "    'heart_disease': [0],  # No\n",
    "    'smoking_history': [1],  # Yes\n",
    "    'bmi': [29.0],  # Overweight\n",
    "    'HbA1c_level': [7.0]  # Elevated blood sugar\n",
    "})\n",
    "\n",
    "# Case 3: Older Female with High BMI and HbA1c\n",
    "case_3 = pd.DataFrame({\n",
    "    'gender': [0],  # Female\n",
    "    'age': [65],\n",
    "    'hypertension': [1],  # Yes\n",
    "    'heart_disease': [1],  # Yes\n",
    "    'smoking_history': [0],  # No\n",
    "    'bmi': [34.0],  # Obese\n",
    "    'HbA1c_level': [9.0]  # Very poor blood sugar control\n",
    "})\n",
    "\n",
    "# Case 4: Middle-Aged Male with Family History\n",
    "case_4 = pd.DataFrame({\n",
    "    'gender': [1],  # Male\n",
    "    'age': [50],\n",
    "    'hypertension': [1],  # Yes\n",
    "    'heart_disease': [1],  # Yes\n",
    "    'smoking_history': [0],  # No\n",
    "    'bmi': [31.5],  # Obese\n",
    "    'HbA1c_level': [7.8]  # Poor blood sugar control\n",
    "})\n",
    "\n",
    "# List of cases\n",
    "cases = [case_1, case_2, case_3, case_4]\n",
    "\n",
    "# Loop through cases to predict diabetes\n",
    "for i, case in enumerate(cases):\n",
    "    # Preprocess and scale the new data using the same scaler\n",
    "    case_scaled = scaler.transform(case)\n",
    "\n",
    "    # Predict diabetes for the new data\n",
    "    diabetes_prediction = clf.predict(case_scaled)\n",
    "    print(f\"Diabetes Prediction for Case {i + 1} (1=Yes, 0=No):\", diabetes_prediction)\n"
   ]
  },
  {
   "cell_type": "code",
   "execution_count": 9,
   "metadata": {},
   "outputs": [
    {
     "name": "stdout",
     "output_type": "stream",
     "text": [
      "Diabetes Prediction for Case 1 (1=Yes, 0=No): [1]\n",
      "Diabetes Prediction for Case 2 (1=Yes, 0=No): [0]\n",
      "Diabetes Prediction for Case 3 (1=Yes, 0=No): [1]\n",
      "Diabetes Prediction for Case 4 (1=Yes, 0=No): [1]\n"
     ]
    }
   ],
   "source": [
    "# Case 1: Middle-Aged Obese Female\n",
    "case_1 = pd.DataFrame({\n",
    "    'gender': [0],  # Female\n",
    "    'age': [55],\n",
    "    'hypertension': [1],  # Yes\n",
    "    'heart_disease': [0],  # No\n",
    "    'smoking_history': [0],  # No\n",
    "    'bmi': [32.0],  # Obese\n",
    "    'HbA1c_level': [7.0]  # Poor blood sugar control\n",
    "})\n",
    "\n",
    "# Case 2: Young Male with High HbA1c\n",
    "case_2 = pd.DataFrame({\n",
    "    'gender': [1],  # Male\n",
    "    'age': [40],\n",
    "    'hypertension': [1],  # Yes\n",
    "    'heart_disease': [0],  # No\n",
    "    'smoking_history': [1],  # Yes\n",
    "    'bmi': [29.0],  # Overweight\n",
    "    'HbA1c_level': [7.0]  # Elevated blood sugar\n",
    "})\n",
    "\n",
    "# Case 3: Older Female with High BMI and HbA1c\n",
    "case_3 = pd.DataFrame({\n",
    "    'gender': [0],  # Female\n",
    "    'age': [65],\n",
    "    'hypertension': [1],  # Yes\n",
    "    'heart_disease': [1],  # Yes\n",
    "    'smoking_history': [0],  # No\n",
    "    'bmi': [34.0],  # Obese\n",
    "    'HbA1c_level': [9.0]  # Very poor blood sugar control\n",
    "})\n",
    "\n",
    "# Case 4: Middle-Aged Male with Family History\n",
    "case_4 = pd.DataFrame({\n",
    "    'gender': [1],  # Male\n",
    "    'age': [50],\n",
    "    'hypertension': [1],  # Yes\n",
    "    'heart_disease': [1],  # Yes\n",
    "    'smoking_history': [0],  # No\n",
    "    'bmi': [31.5],  # Obese\n",
    "    'HbA1c_level': [7.8]  # Poor blood sugar control\n",
    "})\n",
    "\n",
    "# List of cases\n",
    "cases = [case_1, case_2, case_3, case_4]\n",
    "\n",
    "# Loop through cases to predict diabetes\n",
    "for i, case in enumerate(cases):\n",
    "    # Preprocess and scale the new data using the same scaler\n",
    "    case_scaled = scaler.transform(case)\n",
    "\n",
    "    # Predict diabetes for the new data\n",
    "    diabetes_prediction = clf.predict(case_scaled)\n",
    "    print(f\"Diabetes Prediction for Case {i + 1} (1=Yes, 0=No):\", diabetes_prediction)\n"
   ]
  }
 ],
 "metadata": {
  "kernelspec": {
   "display_name": "Python 3",
   "language": "python",
   "name": "python3"
  },
  "language_info": {
   "codemirror_mode": {
    "name": "ipython",
    "version": 3
   },
   "file_extension": ".py",
   "mimetype": "text/x-python",
   "name": "python",
   "nbconvert_exporter": "python",
   "pygments_lexer": "ipython3",
   "version": "3.11.2"
  }
 },
 "nbformat": 4,
 "nbformat_minor": 2
}
